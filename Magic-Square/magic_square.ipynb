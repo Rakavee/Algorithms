{
 "cells": [
  {
   "cell_type": "code",
   "execution_count": 1,
   "metadata": {},
   "outputs": [],
   "source": [
    "\n",
    "class MagicSquare:\n",
    "    def  __init__(self,n=None):\n",
    "        self.n=n\n",
    "        self.nodes=[ [0]*self.n for _ in range(self.n) ]\n",
    "        for i in range(self.n):\n",
    "            for j in range(self.n):\n",
    "                self.nodes[i][j] = Node(data=0)\n",
    "                if i > 0:\n",
    "                    self.nodes[i][j].up = self.nodes[i-1][j]\n",
    "                    self.nodes[i-1][j].down = self.nodes[i][j]\n",
    "                if j > 0:\n",
    "                    self.nodes[i][j].left = self.nodes[i][j-1]\n",
    "                    self.nodes[i][j-1].right = self.nodes[i][j]\n",
    "        \n",
    "            \n",
    "    def populate(self):\n",
    "        j = int(self.n/2)\n",
    "        self.nodes[0][j].data = 1\n",
    "        current_node = self.nodes[0][j]\n",
    "        k=1\n",
    "        N=self.n*self.n\n",
    "        for loop in range(N-1):\n",
    "            k=k+1\n",
    "            if(current_node.up == None and current_node.right == None):\n",
    "                while(current_node):\n",
    "                    if current_node.down.data == 0:\n",
    "                        current_node.down.data = k\n",
    "                        current_node = current_node.down\n",
    "                        break\n",
    "                    current_node = current_node.down\n",
    "                \n",
    "            elif current_node.up == None:\n",
    "                current_node = current_node.right\n",
    "                while(current_node.down):\n",
    "                    current_node = current_node.down\n",
    "                current_node.data = k\n",
    "\n",
    "            elif current_node.up.right == None:\n",
    "                current_node = current_node.up\n",
    "                while(current_node.left):\n",
    "                    current_node = current_node.left\n",
    "                current_node.data = k\n",
    "\n",
    "            elif current_node.up.right.data == 0:\n",
    "                current_node.up.right.data = k\n",
    "                current_node = current_node.up.right\n",
    "\n",
    "            else:\n",
    "                if(current_node.down != None):\n",
    "                    current_node.down.data = k\n",
    "                    current_node = current_node.down\n",
    "                \n",
    "class Node: \n",
    "    def __init__(self, right=None, left=None, up=None, down=None, data=None): \n",
    "        self.right = right \n",
    "        self.left = left\n",
    "        self.up = up \n",
    "        self.down = down\n",
    "        self.data = data\n",
    "\n",
    "    \n",
    "            \n",
    "        \n",
    "    \n",
    "        "
   ]
  },
  {
   "cell_type": "code",
   "execution_count": 10,
   "metadata": {},
   "outputs": [
    {
     "name": "stdout",
     "output_type": "stream",
     "text": [
      "Enter: 3\n"
     ]
    }
   ],
   "source": [
    "import sys\n",
    "no = int(input(\"Enter: \"))\n",
    "new_square = MagicSquare(n=no)\n",
    "new_square.populate()"
   ]
  },
  {
   "cell_type": "code",
   "execution_count": 11,
   "metadata": {},
   "outputs": [
    {
     "name": "stdout",
     "output_type": "stream",
     "text": [
      "|  8 |  1 |  6  |\n",
      "\n",
      "|  3 |  5 |  7  |\n",
      "\n",
      "|  4 |  9 |  2  |\n"
     ]
    }
   ],
   "source": [
    "current_node = new_square.nodes[0][0]\n",
    "next_row = current_node.down\n",
    "while(current_node):\n",
    "        print(\"| \",current_node.data, end = \" \")\n",
    "        if(current_node.right != None):\n",
    "            current_node = current_node.right\n",
    "        elif(current_node.down != None):\n",
    "            current_node = next_row\n",
    "            next_row = current_node.down\n",
    "            print(' |\\n')\n",
    "        else:\n",
    "            print(' |')\n",
    "            break"
   ]
  },
  {
   "cell_type": "code",
   "execution_count": null,
   "metadata": {},
   "outputs": [],
   "source": []
  }
 ],
 "metadata": {
  "kernelspec": {
   "display_name": "Python 3",
   "language": "python",
   "name": "python3"
  },
  "language_info": {
   "codemirror_mode": {
    "name": "ipython",
    "version": 3
   },
   "file_extension": ".py",
   "mimetype": "text/x-python",
   "name": "python",
   "nbconvert_exporter": "python",
   "pygments_lexer": "ipython3",
   "version": "3.6.4"
  }
 },
 "nbformat": 4,
 "nbformat_minor": 2
}
